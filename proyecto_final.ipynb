{
 "cells": [
  {
   "cell_type": "code",
   "execution_count": 1,
   "metadata": {},
   "outputs": [],
   "source": [
    "from Drawer import ImageDrawer\n",
    "from Find_tabletop import HexagonDetector\n",
    "import cv2\n",
    "from roboflow import Roboflow"
   ]
  },
  {
   "cell_type": "code",
   "execution_count": 3,
   "metadata": {},
   "outputs": [],
   "source": [
    "class Project:\n",
    "    def __init__(self):\n",
    "        self.model = []\n",
    "        self.centers = []\n",
    "        self.taken_centers = []\n",
    "        self.deploy_model()\n",
    "        self.detector = HexagonDetector()\n",
    "        self.image_drawer = ImageDrawer(640, 640, hex_size=36)\n",
    "\n",
    "    def predict(self, image):\n",
    "        self.centers = self.detector.find_hexagons(image)\n",
    "        if len(self.centers) == 0:\n",
    "            raise Exception(\"No se detectaron hexágonos\")\n",
    "\n",
    "    def draw(self, image):\n",
    "        self.image_drawer.draw_image(image)\n",
    "        self.image_drawer.show_image()\n",
    "\n",
    "    def deploy_model(self):\n",
    "        rf = Roboflow(api_key=\"0TVwyZuH7ZvyGtzoNC7B\")\n",
    "        project = rf.workspace().project(\"ankh_project\")\n",
    "        self.model = project.version(1).model\n",
    "\n",
    "    def predict_and_draw(self, image):\n",
    "        image = cv2.resize(image, (640, 640))\n",
    "        result = self.model.predict(image, confidence=40, overlap=30).json()\n",
    "        if len(result['predictions']) == 0:\n",
    "            print(\"No se detectaron estatuillas\")\n",
    "        else:\n",
    "            temp = []\n",
    "            for i in range(0, len(result['predictions'])):\n",
    "                x = result['predictions'][i]['x']\n",
    "                height = result['predictions'][i]['height']\n",
    "                y = result['predictions'][i]['y'] - (height//2)*0.6\n",
    "                closest_center = min(self.centers, key=lambda center: ((center[0] - x) ** 2 + (center[1] - y) ** 2) ** 0.5)\n",
    "                temp.append(closest_center)\n",
    "                if closest_center in self.taken_centers:\n",
    "                    continue\n",
    "                self.taken_centers.append(closest_center)\n",
    "                if result['predictions'][i]['class'] == 'amon':\n",
    "                    self.image_drawer.draw_square(closest_center, size=50, color=(255, 0, 0))\n",
    "                elif result['predictions'][i]['class'] == 'isis':\n",
    "                    self.image_drawer.draw_hexagon_object(closest_center, size=50)\n",
    "                elif result['predictions'][i]['class'] == 'amon_follower':\n",
    "                    self.image_drawer.draw_square(closest_center, size=20, color=(255, 0, 0))\n",
    "                elif result['predictions'][i]['class'] == 'isis_follower':\n",
    "                    self.image_drawer.draw_hexagon_object(closest_center, size=20)\n",
    "            for centers in self.taken_centers:\n",
    "                if centers not in temp:\n",
    "                    self.image_drawer.remove_object(centers,size=(50, 50))\n",
    "                    self.taken_centers.remove(centers)\n",
    "        self.image_drawer.show_image()"
   ]
  },
  {
   "cell_type": "code",
   "execution_count": null,
   "metadata": {},
   "outputs": [],
   "source": [
    "Proyecto=Project()\n",
    "cap = cv2.VideoCapture(0)\n",
    "# Check if camera is opened successfully\n",
    "if not cap.isOpened():\n",
    "    print(\"Unable to open camera\")\n",
    "else:\n",
    "    ret, frame = cap.read()\n",
    "    if not ret:\n",
    "        print(\"Unable to read frame from camera\")\n",
    "    else:\n",
    "        Proyecto().predict(frame)\n",
    "        Proyecto().draw(frame)\n",
    "cap.release()\n",
    "cv2.destroyAllWindows()\n"
   ]
  },
  {
   "cell_type": "code",
   "execution_count": null,
   "metadata": {},
   "outputs": [],
   "source": [
    "cap = cv2.VideoCapture(0)\n",
    "# Check if camera is opened successfully\n",
    "if not cap.isOpened():\n",
    "    print(\"Unable to open camera\")\n",
    "else:\n",
    "    ret, frame = cap.read()\n",
    "    if not ret:\n",
    "        print(\"Unable to read frame from camera\")\n",
    "    else:\n",
    "        Proyecto().predict_and_draw(frame)\n",
    "cap.release()\n",
    "cv2.destroyAllWindows()\n"
   ]
  }
 ],
 "metadata": {
  "kernelspec": {
   "display_name": "venv",
   "language": "python",
   "name": "python3"
  },
  "language_info": {
   "codemirror_mode": {
    "name": "ipython",
    "version": 3
   },
   "file_extension": ".py",
   "mimetype": "text/x-python",
   "name": "python",
   "nbconvert_exporter": "python",
   "pygments_lexer": "ipython3",
   "version": "3.9.2"
  }
 },
 "nbformat": 4,
 "nbformat_minor": 2
}
